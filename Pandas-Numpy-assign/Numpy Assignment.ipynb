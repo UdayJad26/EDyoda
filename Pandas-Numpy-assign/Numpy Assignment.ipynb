{
 "cells": [
  {
   "cell_type": "markdown",
   "id": "adabf8ca",
   "metadata": {},
   "source": [
    "1. Create a null vector of size 10 but the fifth value which is 1.\n",
    "2. Create a vector with values ranging from 10 to 49.\n",
    "3. Create a 3x3 matrix with values ranging from 0 to 8\n",
    "4. Find indices of non-zero elements from [1,2,0,0,4,0]\n",
    "5. Create a 10x10 array with random values and find the minimum and maximum values.\n",
    "6. Create a random vector of size 30 and find the mean value."
   ]
  },
  {
   "cell_type": "code",
   "execution_count": 1,
   "id": "33bff5f3",
   "metadata": {},
   "outputs": [],
   "source": [
    "import numpy as np"
   ]
  },
  {
   "cell_type": "markdown",
   "id": "8c4d8cad",
   "metadata": {},
   "source": [
    "### 1. Create a null vector of size 10 but the fifth value which is 1."
   ]
  },
  {
   "cell_type": "code",
   "execution_count": 2,
   "id": "4f1ab71e",
   "metadata": {},
   "outputs": [
    {
     "name": "stdout",
     "output_type": "stream",
     "text": [
      "[0. 0. 0. 0. 1. 0. 0. 0. 0. 0.]\n"
     ]
    }
   ],
   "source": [
    "x=np.zeros(10)\n",
    "x[4]=1\n",
    "print(x)"
   ]
  },
  {
   "cell_type": "markdown",
   "id": "2459b3ba",
   "metadata": {},
   "source": [
    "### 2. Create a vector with values ranging from 10 to 49"
   ]
  },
  {
   "cell_type": "code",
   "execution_count": 4,
   "id": "fc9c05fb",
   "metadata": {},
   "outputs": [
    {
     "name": "stdout",
     "output_type": "stream",
     "text": [
      "[10 11 12 13 14 15 16 17 18 19 20 21 22 23 24 25 26 27 28 29 30 31 32 33\n",
      " 34 35 36 37 38 39 40 41 42 43 44 45 46 47 48]\n"
     ]
    }
   ],
   "source": [
    "x1=np.arange(10,49)\n",
    "print(x1)"
   ]
  },
  {
   "cell_type": "markdown",
   "id": "564ed8ac",
   "metadata": {},
   "source": [
    "### 3. Create a 3x3 matrix with values ranging from 0 to 8\n"
   ]
  },
  {
   "cell_type": "code",
   "execution_count": 6,
   "id": "2be33ec3",
   "metadata": {},
   "outputs": [
    {
     "name": "stdout",
     "output_type": "stream",
     "text": [
      "[[[0 1]\n",
      "  [2 3]]\n",
      "\n",
      " [[4 5]\n",
      "  [6 7]]]\n"
     ]
    }
   ],
   "source": [
    "x2=np.arange(0,8).reshape(2,2,2)\n",
    "print(x2)"
   ]
  },
  {
   "cell_type": "markdown",
   "id": "84d56138",
   "metadata": {},
   "source": [
    "### 4. Find indices of non-zero elements from [1,2,0,0,4,0]"
   ]
  },
  {
   "cell_type": "code",
   "execution_count": 32,
   "id": "b5bacf44",
   "metadata": {},
   "outputs": [
    {
     "name": "stdout",
     "output_type": "stream",
     "text": [
      "(array([0, 1, 4], dtype=int64),)\n"
     ]
    }
   ],
   "source": [
    "x3=np.array([1,2,0,0,4])\n",
    "\n",
    "print(x3.nonzero())"
   ]
  },
  {
   "cell_type": "markdown",
   "id": "d02ffc49",
   "metadata": {},
   "source": [
    "### 5. Create a 10x10 array with random values and find the minimum and maximum values."
   ]
  },
  {
   "cell_type": "code",
   "execution_count": 38,
   "id": "26a6950b",
   "metadata": {},
   "outputs": [
    {
     "name": "stdout",
     "output_type": "stream",
     "text": [
      "Minimum value :  0.001561544677642912\n",
      "Maxmum value :  0.9874937629427898\n"
     ]
    }
   ],
   "source": [
    "x4=np.random.random(size=(10,10))\n",
    "print(\"Minimum value : \",x4.min())\n",
    "print(\"Maxmum value : \",x4.max())"
   ]
  },
  {
   "cell_type": "markdown",
   "id": "c35e15ca",
   "metadata": {},
   "source": [
    "### 6. Create a random vector of size 30 and find the mean value."
   ]
  },
  {
   "cell_type": "code",
   "execution_count": 43,
   "id": "13544801",
   "metadata": {},
   "outputs": [
    {
     "name": "stdout",
     "output_type": "stream",
     "text": [
      "Mean value :  0.5099933277860537\n"
     ]
    }
   ],
   "source": [
    "x5=np.random.random(size=30)\n",
    "print(\"Mean value : \",x5.mean())"
   ]
  },
  {
   "cell_type": "code",
   "execution_count": null,
   "id": "eaf95d90",
   "metadata": {},
   "outputs": [],
   "source": []
  }
 ],
 "metadata": {
  "kernelspec": {
   "display_name": "Python 3 (ipykernel)",
   "language": "python",
   "name": "python3"
  },
  "language_info": {
   "codemirror_mode": {
    "name": "ipython",
    "version": 3
   },
   "file_extension": ".py",
   "mimetype": "text/x-python",
   "name": "python",
   "nbconvert_exporter": "python",
   "pygments_lexer": "ipython3",
   "version": "3.9.5"
  }
 },
 "nbformat": 4,
 "nbformat_minor": 5
}
