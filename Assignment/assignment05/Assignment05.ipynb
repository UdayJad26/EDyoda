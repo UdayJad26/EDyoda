{
 "cells": [
  {
   "cell_type": "markdown",
   "id": "af5fe432",
   "metadata": {},
   "source": [
    "### Write a Python class to implement pow(x, n)\n",
    "Explanation:\n",
    "Use should be able to find the nth power of the x.(i.e x*x*x*x...n times)\n",
    "You must implement it using Class\n",
    "\n",
    "#### Sample Input:\n",
    "x: 10\n",
    "\n",
    "n: 2\n",
    "#### Sample Output:\n",
    "100"
   ]
  },
  {
   "cell_type": "code",
   "execution_count": 12,
   "id": "580842f3",
   "metadata": {},
   "outputs": [],
   "source": [
    "class Pow:\n",
    "    \n",
    "    def __init__(self,x,n):\n",
    "        self.x=x\n",
    "        self.n=n\n",
    "        \n",
    "    def get_power(self):\n",
    "        \n",
    "        ans=self.x\n",
    "        \n",
    "        if self.n==0:\n",
    "            return 1\n",
    "        elif self.n==1:\n",
    "            return self.x\n",
    "        elif self.n<0:\n",
    "            for i in range(1,self.n*(-1)):\n",
    "                ans=ans*self.x\n",
    "            return float(1/ans)\n",
    "        \n",
    "        else: \n",
    "            for i in range(1,self.n):\n",
    "                ans=ans*self.x\n",
    "            return ans\n",
    "            \n",
    "        \n",
    "    "
   ]
  },
  {
   "cell_type": "code",
   "execution_count": 16,
   "id": "5cfa1845",
   "metadata": {},
   "outputs": [
    {
     "name": "stdout",
     "output_type": "stream",
     "text": [
      "please enter base number x= 10\n",
      "please enter exponent i.e power n= 2\n",
      "\n",
      "100\n"
     ]
    }
   ],
   "source": [
    "x=int(input(\"please enter base number x= \"))\n",
    "n=int(input(\"please enter exponent i.e power n= \"))\n",
    "      \n",
    "P1=Pow(x,n)\n",
    "\n",
    "print()\n",
    "print(P1.get_power())\n"
   ]
  }
 ],
 "metadata": {
  "kernelspec": {
   "display_name": "Python 3 (ipykernel)",
   "language": "python",
   "name": "python3"
  },
  "language_info": {
   "codemirror_mode": {
    "name": "ipython",
    "version": 3
   },
   "file_extension": ".py",
   "mimetype": "text/x-python",
   "name": "python",
   "nbconvert_exporter": "python",
   "pygments_lexer": "ipython3",
   "version": "3.9.5"
  }
 },
 "nbformat": 4,
 "nbformat_minor": 5
}
