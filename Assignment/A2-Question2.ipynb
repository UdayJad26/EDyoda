{
 "cells": [
  {
   "cell_type": "markdown",
   "id": "0841c084",
   "metadata": {},
   "source": [
    "## Write a Python program ---->\n",
    "\n",
    "#### step 1: create a list L1 = [1,2,3,4,5]\n",
    "\n",
    "#### step 2 : use L1 to make a list of tuples like below:\n",
    "\n",
    "#### Expected Result : [(1, 1), (2, 4), (3, 9), (4, 16), (5, 25)]"
   ]
  },
  {
   "cell_type": "code",
   "execution_count": 2,
   "id": "c89506b9",
   "metadata": {},
   "outputs": [
    {
     "name": "stdout",
     "output_type": "stream",
     "text": [
      "[(1, 1), (2, 4), (3, 9), (4, 16), (5, 25)]\n"
     ]
    }
   ],
   "source": [
    "L1=[1,2,3,4,5]\n",
    "L2=[]\n",
    "\n",
    "for n in L1:\n",
    "    tup=(n,n*n)\n",
    "    L2.append(tup)\n",
    "\n",
    "print(L2)"
   ]
  },
  {
   "cell_type": "code",
   "execution_count": null,
   "id": "6a579213",
   "metadata": {},
   "outputs": [],
   "source": []
  }
 ],
 "metadata": {
  "kernelspec": {
   "display_name": "Python 3 (ipykernel)",
   "language": "python",
   "name": "python3"
  },
  "language_info": {
   "codemirror_mode": {
    "name": "ipython",
    "version": 3
   },
   "file_extension": ".py",
   "mimetype": "text/x-python",
   "name": "python",
   "nbconvert_exporter": "python",
   "pygments_lexer": "ipython3",
   "version": "3.9.5"
  }
 },
 "nbformat": 4,
 "nbformat_minor": 5
}
