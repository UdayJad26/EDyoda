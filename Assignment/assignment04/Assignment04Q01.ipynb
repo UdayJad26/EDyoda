{
 "cells": [
  {
   "cell_type": "markdown",
   "id": "410e77bc",
   "metadata": {},
   "source": [
    "### Write a Python program to create a lambda function that adds 25 to a given number passed in as an argument.\n",
    "\n",
    "#### sample input: 10\n",
    "\n",
    "#### sample output: 35\n",
    "\n"
   ]
  },
  {
   "cell_type": "code",
   "execution_count": 5,
   "id": "9d3db763",
   "metadata": {},
   "outputs": [
    {
     "name": "stdout",
     "output_type": "stream",
     "text": [
      "10\n",
      "35\n"
     ]
    }
   ],
   "source": [
    "n=int(input())\n",
    "output=lambda x:(x+25)\n",
    "print(output(n))\n"
   ]
  },
  {
   "cell_type": "code",
   "execution_count": null,
   "id": "1c45b6fa",
   "metadata": {},
   "outputs": [],
   "source": []
  }
 ],
 "metadata": {
  "kernelspec": {
   "display_name": "Python 3 (ipykernel)",
   "language": "python",
   "name": "python3"
  },
  "language_info": {
   "codemirror_mode": {
    "name": "ipython",
    "version": 3
   },
   "file_extension": ".py",
   "mimetype": "text/x-python",
   "name": "python",
   "nbconvert_exporter": "python",
   "pygments_lexer": "ipython3",
   "version": "3.9.5"
  }
 },
 "nbformat": 4,
 "nbformat_minor": 5
}
