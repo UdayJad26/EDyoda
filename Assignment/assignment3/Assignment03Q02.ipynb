{
 "cells": [
  {
   "cell_type": "markdown",
   "id": "1ef1f146",
   "metadata": {},
   "source": [
    "## Write a Python program to reverse a string.\n",
    "\n",
    "\n",
    "\n",
    "### Sample String : \"1234abcd\"\n",
    "\n",
    "### Expected Output : \"dcba4321\""
   ]
  },
  {
   "cell_type": "code",
   "execution_count": 13,
   "id": "f467b53e",
   "metadata": {},
   "outputs": [
    {
     "name": "stdout",
     "output_type": "stream",
     "text": [
      "1234abcd\n",
      "dcba4321\n"
     ]
    }
   ],
   "source": [
    "str1=str(input())\n",
    "\n",
    "def reverseString(s):\n",
    "    r=\"\"\n",
    "    for i in range(len(s)-1,-1,-1):\n",
    "        r=r+s[i]\n",
    "        \n",
    "    return r\n",
    "\n",
    "ans=reverseString(str1)\n",
    "print(ans)"
   ]
  },
  {
   "cell_type": "code",
   "execution_count": null,
   "id": "a8ed90d5",
   "metadata": {},
   "outputs": [],
   "source": []
  }
 ],
 "metadata": {
  "kernelspec": {
   "display_name": "Python 3 (ipykernel)",
   "language": "python",
   "name": "python3"
  },
  "language_info": {
   "codemirror_mode": {
    "name": "ipython",
    "version": 3
   },
   "file_extension": ".py",
   "mimetype": "text/x-python",
   "name": "python",
   "nbconvert_exporter": "python",
   "pygments_lexer": "ipython3",
   "version": "3.9.5"
  }
 },
 "nbformat": 4,
 "nbformat_minor": 5
}
