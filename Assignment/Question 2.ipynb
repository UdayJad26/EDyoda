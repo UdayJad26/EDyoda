{
 "cells": [
  {
   "cell_type": "markdown",
   "id": "2b5216e3",
   "metadata": {},
   "source": [
    "## Write a Python program that accepts a word from the user and reverse it.\n",
    "\n",
    "### Sample Test Case\n",
    "\n",
    "##### Input : Edyoda\n",
    "\n",
    "#### output: adoydE\n"
   ]
  },
  {
   "cell_type": "code",
   "execution_count": 12,
   "id": "bb3d8e5a",
   "metadata": {},
   "outputs": [
    {
     "name": "stdout",
     "output_type": "stream",
     "text": [
      "Edyoda\n",
      "adoydE\n"
     ]
    }
   ],
   "source": [
    "s1=str(input())\n",
    "s2=\"\"\n",
    "for i in range(len(s1)-1,-1,-1):\n",
    "    s2=s2+s1[i]\n",
    "    \n",
    "print(s2)"
   ]
  },
  {
   "cell_type": "code",
   "execution_count": null,
   "id": "a41ddf86",
   "metadata": {},
   "outputs": [],
   "source": []
  }
 ],
 "metadata": {
  "kernelspec": {
   "display_name": "Python 3 (ipykernel)",
   "language": "python",
   "name": "python3"
  },
  "language_info": {
   "codemirror_mode": {
    "name": "ipython",
    "version": 3
   },
   "file_extension": ".py",
   "mimetype": "text/x-python",
   "name": "python",
   "nbconvert_exporter": "python",
   "pygments_lexer": "ipython3",
   "version": "3.9.5"
  }
 },
 "nbformat": 4,
 "nbformat_minor": 5
}
