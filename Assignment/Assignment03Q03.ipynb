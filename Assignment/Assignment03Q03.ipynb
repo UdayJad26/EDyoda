{
 "cells": [
  {
   "cell_type": "markdown",
   "id": "6e366204",
   "metadata": {},
   "source": [
    "## Write a Python function that accepts a string and calculate the number of upper case letters and lower case letters.\n",
    "\n",
    "\n",
    "\n",
    "### Sample String : 'The quick Brow Fox'\n",
    "\n",
    "### Expected Output :\n",
    "\n",
    "#### No. of Upper case characters : 3\n",
    "\n",
    "#### No. of Lower case Characters : 12\n"
   ]
  },
  {
   "cell_type": "code",
   "execution_count": 7,
   "id": "8f4e2123",
   "metadata": {},
   "outputs": [
    {
     "name": "stdout",
     "output_type": "stream",
     "text": [
      "No. of Upper case characters :  3\n",
      "No. of Lower case Characters :  12\n"
     ]
    }
   ],
   "source": [
    "string1 ='The quick Brow Fox'\n",
    "\n",
    "def CaseCalculater(sample):\n",
    "    u=0\n",
    "    l=0\n",
    "    for i in sample:\n",
    "        if i.isupper():\n",
    "            u +=1\n",
    "        elif i.islower():\n",
    "            l +=1\n",
    "            \n",
    "    print(\"No. of Upper case characters : \",u)\n",
    "    print(\"No. of Lower case Characters : \",l)\n",
    "    \n",
    "CaseCalculater(string1)\n",
    "        \n",
    "            "
   ]
  },
  {
   "cell_type": "code",
   "execution_count": null,
   "id": "cdd76460",
   "metadata": {},
   "outputs": [],
   "source": []
  },
  {
   "cell_type": "code",
   "execution_count": null,
   "id": "43310598",
   "metadata": {},
   "outputs": [],
   "source": []
  }
 ],
 "metadata": {
  "kernelspec": {
   "display_name": "Python 3 (ipykernel)",
   "language": "python",
   "name": "python3"
  },
  "language_info": {
   "codemirror_mode": {
    "name": "ipython",
    "version": 3
   },
   "file_extension": ".py",
   "mimetype": "text/x-python",
   "name": "python",
   "nbconvert_exporter": "python",
   "pygments_lexer": "ipython3",
   "version": "3.9.5"
  }
 },
 "nbformat": 4,
 "nbformat_minor": 5
}
