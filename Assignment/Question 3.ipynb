{
 "cells": [
  {
   "cell_type": "markdown",
   "id": "979ee608",
   "metadata": {},
   "source": [
    "## 03 Write a Python program to count the number of even and odd numbers from a series of numbers.\n",
    "\n",
    "## Sample numbers : numbers = (1, 2, 3, 4, 5, 6, 7, 8, 9) \n",
    "\n",
    "## Expected Output :\n",
    "\n",
    "### Number of even numbers : 4\n",
    "\n",
    "### Number of odd numbers : 5\n",
    "\n"
   ]
  },
  {
   "cell_type": "code",
   "execution_count": 9,
   "id": "71d2f27f",
   "metadata": {},
   "outputs": [
    {
     "name": "stdout",
     "output_type": "stream",
     "text": [
      "Number of even numbers :  4\n",
      "Number of odd numbers :  5\n"
     ]
    }
   ],
   "source": [
    "numbers = (1, 2, 3, 4, 5, 6, 7, 8, 9) \n",
    "c_odd=0\n",
    "c_even=0\n",
    "\n",
    "for i in numbers:\n",
    "    if i%2 == 0:\n",
    "        c_even+=1\n",
    "    else:\n",
    "        c_odd+=1\n",
    "\n",
    "print(\"Number of even numbers : \",c_even)\n",
    "print(\"Number of odd numbers : \",c_odd)"
   ]
  },
  {
   "cell_type": "code",
   "execution_count": null,
   "id": "27310e45",
   "metadata": {},
   "outputs": [],
   "source": []
  }
 ],
 "metadata": {
  "kernelspec": {
   "display_name": "Python 3 (ipykernel)",
   "language": "python",
   "name": "python3"
  },
  "language_info": {
   "codemirror_mode": {
    "name": "ipython",
    "version": 3
   },
   "file_extension": ".py",
   "mimetype": "text/x-python",
   "name": "python",
   "nbconvert_exporter": "python",
   "pygments_lexer": "ipython3",
   "version": "3.9.5"
  }
 },
 "nbformat": 4,
 "nbformat_minor": 5
}
